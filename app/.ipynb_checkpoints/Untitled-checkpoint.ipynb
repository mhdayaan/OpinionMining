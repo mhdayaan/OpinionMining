{
 "cells": [
  {
   "cell_type": "code",
   "execution_count": 3,
   "id": "6bd5b33a-8d97-4ce4-851e-ada48eb76898",
   "metadata": {},
   "outputs": [
    {
     "name": "stdout",
     "output_type": "stream",
     "text": [
      "Loading saved model...\n",
      "You said: \n",
      "['Great phone, I was concerned about buying used however it has turned out a very good decision.']\n",
      "\n",
      "34\n",
      "1\n",
      "[[0.08578471 0.91421527]]\n",
      "Positive\n"
     ]
    }
   ],
   "source": [
    "import cnn_lstm_ as c1\n",
    "strin=\"Great phone, I was concerned about buying used however it has turned out a very good decision.\"\n",
    "\n",
    "print(\"Loading saved model...\")\n",
    "\n",
    "print(str(c1.predict_response(response=[strin])))\n"
   ]
  },
  {
   "cell_type": "code",
   "execution_count": null,
   "id": "18057b10-825b-4a4e-b497-f6cf97fab1d4",
   "metadata": {},
   "outputs": [],
   "source": []
  }
 ],
 "metadata": {
  "kernelspec": {
   "display_name": "Python 3 (ipykernel)",
   "language": "python",
   "name": "python3"
  },
  "language_info": {
   "codemirror_mode": {
    "name": "ipython",
    "version": 3
   },
   "file_extension": ".py",
   "mimetype": "text/x-python",
   "name": "python",
   "nbconvert_exporter": "python",
   "pygments_lexer": "ipython3",
   "version": "3.7.11"
  }
 },
 "nbformat": 4,
 "nbformat_minor": 5
}
